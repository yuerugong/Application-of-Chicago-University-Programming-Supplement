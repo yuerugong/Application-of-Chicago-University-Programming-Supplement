{
 "cells": [
  {
   "cell_type": "markdown",
   "id": "682af95c",
   "metadata": {},
   "source": [
    "# Set Up"
   ]
  },
  {
   "cell_type": "code",
   "execution_count": 1,
   "id": "b5eb4432",
   "metadata": {
    "tags": []
   },
   "outputs": [],
   "source": [
    "# Import libraries\n",
    "\n",
    "import math\n",
    "import altair as alt\n",
    "from altair import datum\n",
    "import pandas as pd\n",
    "import numpy as np\n",
    "from ipywidgets import interact, interactive, fixed, interact_manual\n",
    "import ipywidgets as widgets\n",
    "from vega_datasets import data  ## provide some classical dataset"
   ]
  },
  {
   "cell_type": "code",
   "execution_count": 2,
   "id": "0b32bda5",
   "metadata": {
    "tags": []
   },
   "outputs": [],
   "source": [
    "# turn on vegafusion\n",
    "\n",
    "##alt.data_transformers.enable('vegafusion')"
   ]
  },
  {
   "cell_type": "code",
   "execution_count": 3,
   "id": "e8637292",
   "metadata": {
    "tags": []
   },
   "outputs": [],
   "source": [
    "# set the output is png\n",
    "\n",
    "##alt.renderers.enable('png')"
   ]
  },
  {
   "cell_type": "code",
   "execution_count": 4,
   "id": "d0875be8",
   "metadata": {
    "tags": []
   },
   "outputs": [],
   "source": [
    "# set altair Using SVG as renderer in jupyterlab\n",
    "\n",
    "##alt.renderers.enable('jupyterlab', embed_options = {'renderer': \"svg\"})"
   ]
  },
  {
   "cell_type": "code",
   "execution_count": 5,
   "id": "154d1018",
   "metadata": {
    "tags": []
   },
   "outputs": [],
   "source": [
    "#Ingest data from csv\n",
    "df = pd.read_csv('boston-weather-mid.csv')"
   ]
  },
  {
   "cell_type": "markdown",
   "id": "f3c1c805",
   "metadata": {},
   "source": [
    "# First interactive visualization\n",
    "## This one should filter the visible timelines and update the subtitle based on the year range in the Jupyter Widget. The y-axis should stay the same."
   ]
  },
  {
   "cell_type": "code",
   "execution_count": 7,
   "id": "80ddf290",
   "metadata": {
    "tags": []
   },
   "outputs": [
    {
     "data": {
      "application/vnd.jupyter.widget-view+json": {
       "model_id": "8f61dc6366ea466699ecb63fd9b0a55f",
       "version_major": 2,
       "version_minor": 0
      },
      "text/plain": [
       "interactive(children=(IntRangeSlider(value=(1872, 2023), continuous_update=False, description='Year Range:', m…"
      ]
     },
     "metadata": {},
     "output_type": "display_data"
    }
   ],
   "source": [
    "# Convert month names to numbers\n",
    "month_to_num = {\n",
    "    'Jan': 1, 'Feb': 2, 'Mar': 3, 'Apr': 4,\n",
    "    'May': 5, 'Jun': 6, 'Jul': 7, 'Aug': 8,\n",
    "    'Sep': 9, 'Oct': 10, 'Nov': 11, 'Dec': 12\n",
    "}\n",
    "\n",
    "num_to_month = {v: k for k, v in month_to_num.items()}  # Reverse mapping\n",
    "\n",
    "def assign_color_range(year):\n",
    "    base_year = 1872  # Start of the time range\n",
    "    interval = 20  # Every 20 years\n",
    "    index = (year - base_year) // interval\n",
    "    colors = ['#EAE4E2', '#DACFCA', '#CCBBB6', '#BFADA4', '#D18F71', '#DF672D', '#DF501B', '#DE0E0B'] #color of each range\n",
    "    return colors[index % len(colors)] # giving different color for every 20 years\n",
    "        \n",
    "# Define year_range\n",
    "year_range = (df['year'].min(), df['year'].max())\n",
    "\n",
    "# Convert month to month_num for the whole dataframe\n",
    "df['month_num'] = df['month'].map(month_to_num)\n",
    "\n",
    "# Create a new column to represent the 20-year time period a year belongs to\n",
    "df['year_period'] = df['year'].apply(lambda y: f\"{(y//20)*20}s to {(y//20)*20 + 19}s\")\n",
    "\n",
    "\n",
    "@interact(\n",
    "    yearRange=widgets.IntRangeSlider(\n",
    "        value=year_range,\n",
    "        min=year_range[0],\n",
    "        max=year_range[1],\n",
    "        step=1,\n",
    "        description='Year Range:',\n",
    "        continuous_update=False\n",
    "    )\n",
    ")\n",
    "\n",
    "def timeline_chart(yearRange):\n",
    "    filtered_df = df[(df['year'] >= yearRange[0]) & (df['year'] <= yearRange[1])]\n",
    "\n",
    "    # Convert month_num to month name for better labeling\n",
    "    filtered_df_copy = filtered_df.copy()\n",
    "    filtered_df_copy['month_name'] = filtered_df_copy['month_num'].map(num_to_month)\n",
    "\n",
    "    # Specify years and colors you want in the legend\n",
    "    legend_periods = [f\"{y}s to {y + 19}s\" for y in range(1880, 2022, 20)]\n",
    "    legend_colors = ['#EAE4E2', '#DACFCA', '#CCBBB6', '#BFADA4', '#D18F71', '#DF672D', '#DF501B', '#DE0E0B']\n",
    "\n",
    "    chart = alt.Chart(\n",
    "        filtered_df_copy,\n",
    "        title=alt.TitleParams(\n",
    "            'How the Boston temperatures for each month have changed over time',\n",
    "            subtitle=f\"A comparison of {yearRange[0]} to {yearRange[1]}\"\n",
    "        )\n",
    "    ).mark_line().encode(\n",
    "        x=alt.X('month_name:O', axis=alt.Axis(title='Month'), sort=list(num_to_month.values())),\n",
    "        y=alt.Y('meanTemp:Q', scale=alt.Scale(domain=[0, 70], nice=False), axis=alt.Axis(title='Mean Monthly Temp in °F')),\n",
    "        color=alt.Color('year_period:N', \n",
    "                        scale=alt.Scale(domain=legend_periods, range=legend_colors), \n",
    "                        legend=alt.Legend(title='Year', symbolType='circle', symbolStrokeWidth=4)),\n",
    "        detail='year:N', \n",
    "        tooltip=[alt.Tooltip('year'), alt.Tooltip('month_name:N'), alt.Tooltip('meanTemp:Q')]\n",
    "    ).properties(\n",
    "        width=450,\n",
    "        height=500 # size of the chart\n",
    "    )\n",
    "    \n",
    "    return chart"
   ]
  },
  {
   "cell_type": "markdown",
   "id": "a89edc2f",
   "metadata": {},
   "source": [
    "# Second interactive visualization.\n",
    "## This one should filter to only the month chosen in the Jupyter Widget. Using Altair’s brush interaction, the user should be able to select a range on the x-axis and have the mean of the temperatures for that month plotted as a horizontal line."
   ]
  },
  {
   "cell_type": "code",
   "execution_count": 8,
   "id": "5d321909",
   "metadata": {},
   "outputs": [
    {
     "data": {
      "application/vnd.jupyter.widget-view+json": {
       "model_id": "28cfd2e2dc124e7e9fb3738a8df7938c",
       "version_major": 2,
       "version_minor": 0
      },
      "text/plain": [
       "interactive(children=(Dropdown(description='Month:', index=7, options=('Jan', 'Feb', 'Mar', 'Apr', 'May', 'Jun…"
      ]
     },
     "metadata": {},
     "output_type": "display_data"
    }
   ],
   "source": [
    "brush = alt.selection_interval(encodings=['x'])  # Brushing on x-axis\n",
    "\n",
    "@interact(\n",
    "    month=widgets.Dropdown(\n",
    "        options=df['month'].unique(),  # unique months from the data\n",
    "        value='Aug', #start at august\n",
    "        description='Month:',\n",
    "    )\n",
    ")\n",
    "def plot_chart(month):\n",
    "    # Filter data based on the chosen month\n",
    "    filtered_df = df[df['month'] == month]\n",
    "    boston_weather_chart = alt.Chart(filtered_df, width=600, height=300) # the size of chart\n",
    "\n",
    "# Points Chart\n",
    "    points = boston_weather_chart.mark_point().encode(\n",
    "        x=alt.X('year:O', \n",
    "                axis=alt.Axis(values=[1860, 1880, 1900, 1920, 1940, 1960, 1980, 2000, 2020, 2040]),       \n",
    "                title='Year'),\n",
    "        y=alt.Y('meanTemp:Q', title='Mean Monthly Temp in °F'),\n",
    "        color=alt.Color('year:Q', \n",
    "                        scale=alt.Scale(domain=[filtered_df['year'].min(), \n",
    "                                                filtered_df['year'].max()], \n",
    "                                        range=['gray','orange', 'red']), # set the color\n",
    "                        title='Year'),  \n",
    "        size=alt.condition(brush, alt.value(50), alt.value(50)),\n",
    "    tooltip=['year', 'meanTemp', 'month']\n",
    " ).add_params(brush)\n",
    "\n",
    "    # Mean Line                                      # the color and size of  the mean line\n",
    "    meanLine = alt.Chart(filtered_df).mark_rule(color='#B80107', opacity=.5).encode(\n",
    "        y=alt.Y('mean(meanTemp):Q', scale=alt.Scale(zero=False)),\n",
    "        size=alt.SizeValue(3)\n",
    "    ).transform_filter(\n",
    "        brush  # Use the brush to filter data\n",
    "    )\n",
    "\n",
    "    return points + meanLine"
   ]
  }
 ],
 "metadata": {
  "kernelspec": {
   "display_name": "Python 3 (ipykernel)",
   "language": "python",
   "name": "python3"
  },
  "language_info": {
   "codemirror_mode": {
    "name": "ipython",
    "version": 3
   },
   "file_extension": ".py",
   "mimetype": "text/x-python",
   "name": "python",
   "nbconvert_exporter": "python",
   "pygments_lexer": "ipython3",
   "version": "3.11.4"
  }
 },
 "nbformat": 4,
 "nbformat_minor": 5
}
