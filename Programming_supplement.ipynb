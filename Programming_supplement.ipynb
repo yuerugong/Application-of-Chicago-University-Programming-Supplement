{
 "cells": [
  {
   "cell_type": "markdown",
   "id": "682af95c",
   "metadata": {},
   "source": [
    "# Set Up"
   ]
  },
  {
   "cell_type": "code",
   "execution_count": 1,
   "id": "b5eb4432",
   "metadata": {
    "tags": []
   },
   "outputs": [],
   "source": [
    "# Import libraries\n",
    "import altair as alt\n",
    "import pandas as pd\n",
    "from ipywidgets import interact, interactive, fixed, interact_manual\n",
    "import ipywidgets as widgets\n",
    "\n",
    "import numpy as np\n",
    "from numpy import genfromtxt\n",
    "from sklearn.preprocessing import MinMaxScaler\n",
    "from sklearn.model_selection import train_test_split\n",
    "from sklearn.linear_model import LogisticRegression\n",
    "from sklearn.metrics import accuracy_score"
   ]
  },
  {
   "cell_type": "markdown",
   "id": "13a75273-9d05-4f9c-88ff-6aafd0692f81",
   "metadata": {},
   "source": [
    "# 1. analysis Boston weather's data and shows how Boston's tempurture changed over time. "
   ]
  },
  {
   "cell_type": "code",
   "execution_count": 2,
   "id": "154d1018",
   "metadata": {
    "tags": []
   },
   "outputs": [],
   "source": [
    "#Ingest data from csv\n",
    "df = pd.read_csv('boston-weather-mid.csv')"
   ]
  },
  {
   "cell_type": "markdown",
   "id": "f3c1c805",
   "metadata": {},
   "source": [
    "## First interactive visualization\n",
    "#### The user can set the year range to see how the temperature changed in different year range. (interaction)"
   ]
  },
  {
   "cell_type": "code",
   "execution_count": 3,
   "id": "80ddf290",
   "metadata": {
    "tags": []
   },
   "outputs": [
    {
     "data": {
      "application/vnd.jupyter.widget-view+json": {
       "model_id": "988704e67b35493395dc8909bfddb28b",
       "version_major": 2,
       "version_minor": 0
      },
      "text/plain": [
       "interactive(children=(IntRangeSlider(value=(1872, 2023), continuous_update=False, description='Year Range:', m…"
      ]
     },
     "metadata": {},
     "output_type": "display_data"
    }
   ],
   "source": [
    "# Convert month names to numbers\n",
    "month_to_num = {\n",
    "    'Jan': 1, 'Feb': 2, 'Mar': 3, 'Apr': 4,\n",
    "    'May': 5, 'Jun': 6, 'Jul': 7, 'Aug': 8,\n",
    "    'Sep': 9, 'Oct': 10, 'Nov': 11, 'Dec': 12\n",
    "}\n",
    "\n",
    "num_to_month = {v: k for k, v in month_to_num.items()}  # Reverse mapping\n",
    "\n",
    "# return colors based on the time range\n",
    "def assign_color_range(year):\n",
    "    base_year = 1872  # Start of the time range\n",
    "    interval = 20  # Every 20 years\n",
    "    index = (year - base_year) // interval \n",
    "    colors = ['#EAE4E2', '#DACFCA', '#CCBBB6', '#BFADA4', '#D18F71', '#DF672D', '#DF501B', '#DE0E0B'] #color of each range\n",
    "    return colors[index % len(colors)] # giving different color for every 20 years\n",
    "\n",
    "# Get the min and max year\n",
    "year_range = (df['year'].min(), df['year'].max())\n",
    "\n",
    "# Convert month to mun\n",
    "df['month_num'] = df['month'].map(month_to_num)\n",
    "\n",
    "# Create a new column to represent the 20-year time period a year belongs to\n",
    "df['year_period'] = df['year'].apply(lambda y: f\"{(y//20)*20}s to {(y//20)*20 + 19}s\")\n",
    "\n",
    "# create an interactive control\n",
    "@interact(\n",
    "    yearRange=widgets.IntRangeSlider(\n",
    "        value=year_range,\n",
    "        min=year_range[0],\n",
    "        max=year_range[1],\n",
    "        step=1,\n",
    "        description='Year Range:',\n",
    "        continuous_update=False\n",
    "    )\n",
    ")\n",
    "\n",
    "# create an interactive chart\n",
    "def timeline_chart(yearRange):\n",
    "    # filter the year range\n",
    "    filtered_df = df[(df['year'] >= yearRange[0]) & (df['year'] <= yearRange[1])]\n",
    "\n",
    "    # Convert num to month name for better labeling\n",
    "    filtered_df_copy = filtered_df.copy()\n",
    "    filtered_df_copy['month_name'] = filtered_df_copy['month_num'].map(num_to_month)\n",
    "\n",
    "    # Specify years and colors in the legend\n",
    "    legend_periods = [f\"{y}s to {y + 19}s\" for y in range(1880, 2022, 20)]\n",
    "    legend_colors = ['#EAE4E2', '#DACFCA', '#CCBBB6', '#BFADA4', '#D18F71', '#DF672D', '#DF501B', '#DE0E0B']\n",
    "    \n",
    "    # create an altir chart\n",
    "    chart = alt.Chart(\n",
    "        filtered_df_copy,\n",
    "        title=alt.TitleParams(\n",
    "            'How the Boston temperatures for each month have changed over time',\n",
    "            subtitle=f\"A comparison of {yearRange[0]} to {yearRange[1]}\"\n",
    "        )\n",
    "    ).mark_line().encode(\n",
    "        x=alt.X('month_name:O', axis=alt.Axis(title='Month'), sort=list(num_to_month.values())),\n",
    "        y=alt.Y('meanTemp:Q', scale=alt.Scale(domain=[0, 70], nice=False), axis=alt.Axis(title='Mean Monthly Temp in °F')),\n",
    "        color=alt.Color('year_period:N', \n",
    "                        scale=alt.Scale(domain=legend_periods, range=legend_colors), \n",
    "                        legend=alt.Legend(title='Year', symbolType='circle', symbolStrokeWidth=4)),\n",
    "        detail='year:N', \n",
    "        tooltip=[alt.Tooltip('year'), alt.Tooltip('month_name:N'), alt.Tooltip('meanTemp:Q')]\n",
    "    ).properties(\n",
    "        width=450,\n",
    "        height=500 # size of the chart\n",
    "    )\n",
    "    \n",
    "    return chart"
   ]
  },
  {
   "cell_type": "markdown",
   "id": "a89edc2f",
   "metadata": {},
   "source": [
    "## Second interactive visualization.\n",
    "#### The user could choose which month they want to analyze.\n",
    "#### Using Altair’s brush interaction, the user should be able to select a range on the x-axis and have the mean of the temperatures for that month plotted as a horizontal line."
   ]
  },
  {
   "cell_type": "code",
   "execution_count": 4,
   "id": "5d321909",
   "metadata": {},
   "outputs": [
    {
     "data": {
      "application/vnd.jupyter.widget-view+json": {
       "model_id": "3dda2b48192e4f31a345e8cae08ca3c6",
       "version_major": 2,
       "version_minor": 0
      },
      "text/plain": [
       "interactive(children=(Dropdown(description='Month:', index=7, options=('Jan', 'Feb', 'Mar', 'Apr', 'May', 'Jun…"
      ]
     },
     "metadata": {},
     "output_type": "display_data"
    }
   ],
   "source": [
    "brush = alt.selection_interval(encodings=['x'])  # Brushing on x-axis\n",
    "\n",
    "# create an interactive control\n",
    "@interact(\n",
    "    month=widgets.Dropdown(\n",
    "        options=df['month'].unique(),  # unique months from the data\n",
    "        value='Aug', #start at august\n",
    "        description='Month:',\n",
    "    )\n",
    ")\n",
    "\n",
    "# create an interactive chart\n",
    "def plot_chart(month):\n",
    "    # Filter data based on the chosen month\n",
    "    filtered_df = df[df['month'] == month]\n",
    "    boston_weather_chart = alt.Chart(filtered_df, width=600, height=300) # the size of chart\n",
    "\n",
    "    # Points Chart\n",
    "    points = boston_weather_chart.mark_point().encode(\n",
    "        x=alt.X('year:O', \n",
    "                axis=alt.Axis(values=[1860, 1880, 1900, 1920, 1940, 1960, 1980, 2000, 2020, 2040]),       \n",
    "                title='Year'),\n",
    "        y=alt.Y('meanTemp:Q', title='Mean Monthly Temp in °F'),\n",
    "        color=alt.Color('year:Q', \n",
    "                        scale=alt.Scale(domain=[filtered_df['year'].min(), \n",
    "                                                filtered_df['year'].max()], \n",
    "                                        range=['gray','orange', 'red']), # set the color\n",
    "                        title='Year'),  \n",
    "        size=alt.condition(brush, alt.value(50), alt.value(50)),\n",
    "    tooltip=['year', 'meanTemp', 'month']\n",
    " ).add_params(brush)\n",
    "\n",
    "    # Mean Line                                      # the color and size of  the mean line\n",
    "    meanLine = alt.Chart(filtered_df).mark_rule(color='#B80107', opacity=.5).encode(\n",
    "        y=alt.Y('mean(meanTemp):Q', scale=alt.Scale(zero=False)),\n",
    "        size=alt.SizeValue(3)\n",
    "    ).transform_filter(\n",
    "        brush  # Use the brush to filter data\n",
    "    )\n",
    "\n",
    "    return points + meanLine"
   ]
  },
  {
   "cell_type": "markdown",
   "id": "83fc4236-284c-434e-9e94-820b09ec03cd",
   "metadata": {
    "tags": []
   },
   "source": [
    "# 2. if a student gets a job right out of college. You can interpret the 7 dimensions as\n",
    "1) Fitness level (between 1 to 10)\n",
    "2) College GPA (between 0 - 4.0)\n",
    "3) Height (in inches)\n",
    "4) Having a large social network (between 1 to 10)\n",
    "5) Being in a serious relationship (between 1 to 10)\n",
    "6) Graduate in good economic condition (between 1 to 10 with 10 as amazing economy)\n",
    "7) Number of internships\n",
    "# By using these 7 factors to predict if a student will get a job right out of college."
   ]
  },
  {
   "cell_type": "code",
   "execution_count": 5,
   "id": "334d3b2e-b804-45ae-890e-a971e59aa282",
   "metadata": {},
   "outputs": [],
   "source": [
    "#Ingest data from csv\n",
    "X = genfromtxt('job_right_out_of_college_X.csv', delimiter=',')\n",
    "y = genfromtxt('job_right_out_of_college_y.csv', delimiter=',')"
   ]
  },
  {
   "cell_type": "code",
   "execution_count": 6,
   "id": "fe9a9ee8-c08e-4ce1-8c73-2df7011dd350",
   "metadata": {},
   "outputs": [],
   "source": [
    "# split to Train/Test/Validation\n",
    "X_train, X_rest, y_train, y_rest = train_test_split(X, y, test_size=0.2, random_state=42)\n",
    "X_test, X_val, y_test, y_val = train_test_split(X_rest, y_rest, test_size=0.5, random_state=42)"
   ]
  },
  {
   "cell_type": "code",
   "execution_count": 7,
   "id": "ba72db6d-a3e8-4b15-9411-6ec50fc4942f",
   "metadata": {},
   "outputs": [],
   "source": [
    "# preprocessing\n",
    "scaler = MinMaxScaler(feature_range=(0, 1))\n",
    "\n",
    "X_train = scaler.fit_transform(X_train)\n",
    "X_val = scaler.transform(X_val)\n",
    "X_test = scaler.transform(X_test)\n",
    "\n",
    "X_train = np.hstack((np.ones((X_train.shape[0], 1)), X_train))\n",
    "X_test = np.hstack((np.ones((X_test.shape[0], 1)), X_test))\n",
    "X_val = np.hstack((np.ones((X_val.shape[0], 1)), X_val))"
   ]
  },
  {
   "cell_type": "code",
   "execution_count": 8,
   "id": "61f0e67b-3660-441b-8f9b-fac92853b136",
   "metadata": {},
   "outputs": [
    {
     "name": "stdout",
     "output_type": "stream",
     "text": [
      "Accuracy on training data: 0.98\n",
      "Accuracy on test data: 0.98\n",
      "Accuracy on val data: 0.98\n"
     ]
    }
   ],
   "source": [
    "θ = np.ones((X_train.shape[1], 1))\n",
    "def sigmoid(x, θ):\n",
    "    return 1 / (1 + np.exp(-np.dot(x, θ)))\n",
    "\n",
    "def dL(X, y, θ, λ):\n",
    "    m = X.shape[0]\n",
    "    predictions = sigmoid(X, θ)\n",
    "    error = predictions - y.reshape(-1, 1) \n",
    "    reg_term = λ * np.sign(θ)\n",
    "    return (1 / m) * np.dot(X.T, error) + reg_term\n",
    "\n",
    "def gradient_descent(X, y, θ, yt, λ, iterations=5000):\n",
    "    for i in range(iterations):\n",
    "        θ -= yt * dL(X, y, θ, λ)\n",
    "    return θ\n",
    "\n",
    "λ=0\n",
    "yt=0.2\n",
    "θ = gradient_descent(X_train, y_train, θ, yt, λ)\n",
    "\n",
    "predictions_train = sigmoid(X_train, θ)\n",
    "predictions_test = sigmoid(X_test, θ)\n",
    "predictions_val = sigmoid(X_val, θ)\n",
    "\n",
    "y_train_pred = [1 if p > 0.5 else 0 for p in predictions_train]\n",
    "y_test_pred = [1 if p > 0.5 else 0 for p in predictions_test]\n",
    "y_val_pred = [1 if p > 0.5 else 0 for p in predictions_val]\n",
    "\n",
    "accurancy_test = accuracy_score(y_test, y_test_pred)\n",
    "accurancy_val = accuracy_score(y_val, y_val_pred)\n",
    "train_predictions = sigmoid(X_train, θ)\n",
    "train_predictions = [1 if p > 0.5 else 0 for p in train_predictions]\n",
    "accuracy = np.mean(train_predictions == y_train)\n",
    "print(f\"Accuracy on training data: {accuracy:.2f}\")\n",
    "print(f\"Accuracy on test data: {accurancy_test:.2f}\")\n",
    "print(f\"Accuracy on val data: {accurancy_val:.2f}\")"
   ]
  },
  {
   "cell_type": "code",
   "execution_count": 9,
   "id": "987c5134-c718-4df3-8ac4-07720b039cc2",
   "metadata": {
    "tags": []
   },
   "outputs": [
    {
     "name": "stdout",
     "output_type": "stream",
     "text": [
      "Fitness level: -11.546900190332169\n",
      "Number of internships: 9.40757408670768\n",
      "Serious relationship: 4.305858917038395\n",
      "Height: 2.793912793493618\n",
      "Economic condition: -2.1664957071819515\n",
      "Social network: -0.6282233786609756\n",
      "College GPA: 0.15242512023482208\n",
      "Factors most positively influencing getting a job: ['Number of internships', 'Serious relationship', 'Height', 'College GPA']\n"
     ]
    }
   ],
   "source": [
    "# Assuming 'weights' is your model's weight array and 'feature_names' is a list of the feature names\n",
    "feature_names = ['Fitness level', 'College GPA', 'Height', 'Social network', \n",
    "                 'Serious relationship', 'Economic condition', 'Number of internships']\n",
    "\n",
    "# Assuming θ is your weight vector and is a numpy array\n",
    "feature_importances = [(name, weight) for name, weight in zip(feature_names, θ.flatten())]\n",
    "feature_importances.sort(key=lambda x: abs(x[1]), reverse=True)\n",
    "\n",
    "# Sorted features by importance\n",
    "for feature, importance in feature_importances:\n",
    "    print(f\"{feature}: {importance}\")\n",
    "\n",
    "# Identifying positively influencing factors\n",
    "positive_influences = [feature for feature, weight in feature_importances if weight > 0]\n",
    "print(\"Factors most positively influencing getting a job:\", positive_influences)"
   ]
  },
  {
   "cell_type": "markdown",
   "id": "d4669523-2130-4abd-9a61-f0e299ea0fec",
   "metadata": {},
   "source": [
    "### Which factors most positively influence getting a job?\n",
    "\n",
    "according to the features list that I got, the most positively influence one is Number of internships. cause the influence is the highest one."
   ]
  },
  {
   "cell_type": "code",
   "execution_count": 10,
   "id": "6d69a008-4912-49ab-81db-749d3c0e8562",
   "metadata": {
    "tags": []
   },
   "outputs": [
    {
     "name": "stdout",
     "output_type": "stream",
     "text": [
      "the accuracy of test data is 1.0\n",
      "the accuracy of train data is 0.995\n",
      "the accuracy of validation data is 0.99\n"
     ]
    }
   ],
   "source": [
    "# Using LogisticRegression with L1 penalty (lasso) and a liblinear solver which supports L1 penalties.\n",
    "logreg_l1 = LogisticRegression(penalty='l1', solver='liblinear', C=1.0, random_state=42)\n",
    "logreg_l1.fit(X_train, y_train)\n",
    "\n",
    "y_pred_sklearn_test = logreg_l1.predict(X_test)\n",
    "y_pred_sklearn_train = logreg_l1.predict(X_train)\n",
    "y_pred_sklearn_val = logreg_l1.predict(X_val)\n",
    "accuracy_sklearn_test = accuracy_score(y_test, y_pred_sklearn_test)\n",
    "accuracy_sklearn_train = accuracy_score(y_train, y_pred_sklearn_train)\n",
    "accuracy_sklearn_val = accuracy_score(y_val, y_pred_sklearn_val)\n",
    "\n",
    "print(\"the accuracy of test data is\", accuracy_sklearn_test)\n",
    "print(\"the accuracy of train data is\", accuracy_sklearn_train)\n",
    "print(\"the accuracy of validation data is\", accuracy_sklearn_val)"
   ]
  }
 ],
 "metadata": {
  "kernelspec": {
   "display_name": "Python 3 (ipykernel)",
   "language": "python",
   "name": "python3"
  },
  "language_info": {
   "codemirror_mode": {
    "name": "ipython",
    "version": 3
   },
   "file_extension": ".py",
   "mimetype": "text/x-python",
   "name": "python",
   "nbconvert_exporter": "python",
   "pygments_lexer": "ipython3",
   "version": "3.11.4"
  }
 },
 "nbformat": 4,
 "nbformat_minor": 5
}
